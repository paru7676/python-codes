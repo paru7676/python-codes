{
 "cells": [
  {
   "cell_type": "code",
   "execution_count": 1,
   "id": "8df214e8-1115-4653-b21b-69eae0e0605f",
   "metadata": {},
   "outputs": [
    {
     "name": "stdout",
     "output_type": "stream",
     "text": [
      "13\n"
     ]
    }
   ],
   "source": [
    "a=9\n",
    "b=4\n",
    "c=a+b\n",
    "print(c)"
   ]
  },
  {
   "cell_type": "code",
   "execution_count": 1,
   "id": "f8a219d8-8179-4d5b-9ae2-1101cc9e0d1b",
   "metadata": {},
   "outputs": [
    {
     "name": "stdout",
     "output_type": "stream",
     "text": [
      "helo\n"
     ]
    }
   ],
   "source": [
    "print(\"helo\")"
   ]
  },
  {
   "cell_type": "code",
   "execution_count": 3,
   "id": "88cb6b1b-cc56-4204-956d-23db0444b37c",
   "metadata": {},
   "outputs": [
    {
     "name": "stdin",
     "output_type": "stream",
     "text": [
      "eneter your name paru\n",
      "enter your age 99\n"
     ]
    },
    {
     "name": "stdout",
     "output_type": "stream",
     "text": [
      "paru\n",
      "eligible to vote\n"
     ]
    }
   ],
   "source": [
    "name=input(\"eneter your name\")\n",
    "age=int(input(\"enter your age\"))\n",
    "if age>=18:\n",
    "  print(name)\n",
    "  print(\"eligible to vote\")\n",
    "else:\n",
    "  print(name)\n",
    "  print(\"not eligible\")\n",
    "\n"
   ]
  },
  {
   "cell_type": "code",
   "execution_count": 10,
   "id": "7da4d8d8-4ebc-48ae-864c-8242eacd6889",
   "metadata": {},
   "outputs": [
    {
     "name": "stdin",
     "output_type": "stream",
     "text": [
      "enetr the gender M\n"
     ]
    },
    {
     "name": "stdout",
     "output_type": "stream",
     "text": [
      "not allowed\n"
     ]
    }
   ],
   "source": [
    "gender=input(\"enetr the gender\")\n",
    "if gender==\"F\":\n",
    "    \n",
    "   print(\"allowed in hostel\")\n",
    "else:\n",
    "    print(\"not allowed\")\n",
    "            "
   ]
  },
  {
   "cell_type": "code",
   "execution_count": 13,
   "id": "70b6cc70-fe2c-4098-b78f-444c313827f5",
   "metadata": {},
   "outputs": [
    {
     "name": "stdin",
     "output_type": "stream",
     "text": [
      "enter the value of a and b 12 45\n"
     ]
    },
    {
     "name": "stdout",
     "output_type": "stream",
     "text": [
      "45 is greater than  12\n"
     ]
    }
   ],
   "source": [
    "a,b=map(int,input(\"enter the value of a and b\").split())\n",
    "if a>=b:\n",
    "\n",
    "    print(a,\" is greater or equal than \",b)\n",
    "else:\n",
    "    print(b,\"is greater than \",a)\n",
    "        "
   ]
  },
  {
   "cell_type": "code",
   "execution_count": 15,
   "id": "0b5017ee-0e43-4ed5-abcc-296e1270cbe9",
   "metadata": {},
   "outputs": [
    {
     "name": "stdin",
     "output_type": "stream",
     "text": [
      " 12\n",
      " 21\n",
      " 13\n"
     ]
    },
    {
     "name": "stdout",
     "output_type": "stream",
     "text": [
      "y is the largest\n"
     ]
    }
   ],
   "source": [
    "x=int(input())\n",
    "y=int(input())\n",
    "z=int(input())\n",
    "if x>y:\n",
    "    if x>z:\n",
    "     print(\"x is largest\")\n",
    "    else:\n",
    "        print(\"z is the largest\")\n",
    "else:\n",
    "    if y>z:\n",
    "      print(\"y is the largest\")\n",
    "    else:\n",
    "      print(\"z is the largest\")\n",
    "    "
   ]
  },
  {
   "cell_type": "code",
   "execution_count": 17,
   "id": "b70d430f-feb8-44d6-93b2-0084e0b20a32",
   "metadata": {},
   "outputs": [
    {
     "name": "stdin",
     "output_type": "stream",
     "text": [
      "enetr the marks 45\n"
     ]
    },
    {
     "name": "stdout",
     "output_type": "stream",
     "text": [
      "C+\n"
     ]
    }
   ],
   "source": [
    "marks=int(input(\"enetr the marks\"))\n",
    "if marks>=90:\n",
    "    print(\"A+\")\n",
    "elif marks<90 and marks>=80:\n",
    "    print(\"A\")\n",
    "elif marks<80 and marks>=70:\n",
    "    print(\"B+\")\n",
    "elif marks<70 and marks>=60:\n",
    "    print(\"B\")\n",
    "elif marks<60 and marks>=40:\n",
    "    print(\"C+\")\n",
    "elif marks<40 and marks>=30:\n",
    "    print(\"E\")\n",
    "elif marks<30:\n",
    "    print(\"F\")\n",
    "else:\n",
    "    print(\"invalid marks\")\n",
    " "
   ]
  },
  {
   "cell_type": "code",
   "execution_count": 19,
   "id": "52c3b2e9-11f1-4e78-b941-7abc787b6863",
   "metadata": {},
   "outputs": [
    {
     "name": "stdin",
     "output_type": "stream",
     "text": [
      "enter the colour 2\n"
     ]
    },
    {
     "name": "stdout",
     "output_type": "stream",
     "text": [
      "blue\n"
     ]
    }
   ],
   "source": [
    "col=int(input(\"enter the colour\"))\n",
    "match col:\n",
    " case 1:print('yellow')\n",
    " case 2:print('blue')\n",
    " case 3:print('red')\n",
    " case 4:print('green')\n",
    " case 5:print('pink')\n",
    " case _:print('invalid color')\n",
    "     \n",
    "     \n",
    "       \n",
    "      \n",
    " "
   ]
  },
  {
   "cell_type": "code",
   "execution_count": null,
   "id": "e55d28c2-f369-48be-bb80-0d990c40bb09",
   "metadata": {},
   "outputs": [],
   "source": [
    "phase=int(input(\"enter the colour\"))\n",
    "match phase\n",
    " case 1:print('birth')\n",
    " case 2:print('baby phase')\n",
    " case 3:print('child phase')\n",
    " case 4:print('puberty phase')\n",
    " case 5:print('adult phase')\n",
    " case _:print('invalid color')\n",
    "     "
   ]
  },
  {
   "cell_type": "code",
   "execution_count": 20,
   "id": "9bbd5c3a-1da9-4139-8efe-6d8b3e96fbd5",
   "metadata": {},
   "outputs": [
    {
     "name": "stdout",
     "output_type": "stream",
     "text": [
      "12\n",
      "13\n",
      "14\n",
      "15\n",
      "16\n",
      "17\n",
      "18\n",
      "19\n",
      "20\n",
      "21\n"
     ]
    }
   ],
   "source": [
    "for x in range(12,22):\n",
    "    print(x)\n",
    "    "
   ]
  },
  {
   "cell_type": "code",
   "execution_count": 30,
   "id": "128d9ed7-dd1c-4180-8c34-e7c6d5668493",
   "metadata": {},
   "outputs": [
    {
     "name": "stdout",
     "output_type": "stream",
     "text": [
      "* \n",
      "* * \n",
      "* * * \n",
      "* * * * \n",
      "* * * * * \n"
     ]
    }
   ],
   "source": [
    "for i in range(0,5):\n",
    "    for y in range(0,i+1):\n",
    "      print(\"*\",end=' ')\n",
    "    print()\n",
    "    "
   ]
  },
  {
   "cell_type": "code",
   "execution_count": 4,
   "id": "2283d9d2-4d2c-4e41-8b73-9ed652311574",
   "metadata": {},
   "outputs": [
    {
     "name": "stdin",
     "output_type": "stream",
     "text": [
      "enter the value of n 5\n"
     ]
    },
    {
     "name": "stdout",
     "output_type": "stream",
     "text": [
      "fib series 0 1\n",
      "1 2 3 "
     ]
    }
   ],
   "source": [
    "n=int(input(\"enter the value of n\"))\n",
    "a,b=0,1\n",
    "print(\"fib series\",a,b)\n",
    "for i in range(0,n-2):\n",
    "              c=a+b\n",
    "              a=b\n",
    "              b=c\n",
    "              print(c,end=' ')\n",
    " \n",
    "  \n",
    "     \n",
    "\n",
    "\n",
    "\n",
    "      "
   ]
  },
  {
   "cell_type": "code",
   "execution_count": 12,
   "id": "cf6920c8-6110-4bbe-8301-9d9d5a4e26ce",
   "metadata": {},
   "outputs": [
    {
     "name": "stdin",
     "output_type": "stream",
     "text": [
      "enter the value of n 5\n"
     ]
    },
    {
     "name": "stdout",
     "output_type": "stream",
     "text": [
      "fib series 0 1\n",
      "1 2 3 "
     ]
    }
   ],
   "source": [
    "n=int(input(\"enter the value of n\"))\n",
    "a,b=0,1\n",
    "print(\"fib series\",a,b)\n",
    "for i in range(0,n-2):\n",
    "              c=a+b\n",
    "              a=b\n",
    "              b=c\n",
    "              print(c,end=' ')\n",
    " "
   ]
  },
  {
   "cell_type": "code",
   "execution_count": 3,
   "id": "7ebc5f9f-6bbf-48ee-91c9-8e9dba6c0e23",
   "metadata": {},
   "outputs": [
    {
     "name": "stdin",
     "output_type": "stream",
     "text": [
      "enter the number 121\n"
     ]
    },
    {
     "name": "stdout",
     "output_type": "stream",
     "text": [
      "palindrom\n"
     ]
    }
   ],
   "source": [
    "#palindrom\n",
    "n=int(input(\"enter the number\"))\n",
    "temp=n\n",
    "rev=0\n",
    "while n!=0:\n",
    "    rem=n%10\n",
    "    rev=rev*10+rem\n",
    "    n=n//10\n",
    "if temp==rev:\n",
    "    print(\"palindrom\")\n",
    "else:\n",
    "    print(\"not palindrome\")\n",
    "\n"
   ]
  },
  {
   "cell_type": "code",
   "execution_count": null,
   "id": "78de9989-e0c3-4351-b356-9ccc0e8ecfe8",
   "metadata": {},
   "outputs": [],
   "source": [
    "#prime number\n",
    "num = 15\n",
    "flag = 0\n",
    "for i in range(2,num):\n",
    "  if num%i==0:\n",
    "    flag = 1\n",
    "    break\n",
    "if flag == 1:\n",
    "  print('Not Prime')\n",
    "else:\n",
    "  print(\"Prime\")"
   ]
  },
  {
   "cell_type": "code",
   "execution_count": null,
   "id": "0269b01f-2964-45d9-a786-cbc58a64eb89",
   "metadata": {},
   "outputs": [],
   "source": [
    "#reverse the number\n",
    "num = 1234\n",
    "temp = num\n",
    "reverse = 0\n",
    "while num > 0:\n",
    "    remainder = num % 10\n",
    "    reverse = (reverse * 10) + remainder\n",
    "    num = num // 10\n",
    "\n",
    "print(reverse)"
   ]
  },
  {
   "cell_type": "code",
   "execution_count": null,
   "id": "24466546-a80c-4a7b-b05f-6b256a10c8da",
   "metadata": {},
   "outputs": [],
   "source": [
    "#factorial\n",
    "num = 6\n",
    "fact = 1\n",
    "\n",
    "\n",
    "\n",
    "if num < 0:\n",
    "    print(\"Not Possible\")\n",
    "else:\n",
    "    for i in range(1, num+1):\n",
    "        fact = fact * i\n",
    "\n",
    "print(\"Factorial of\", num, \"is\", fact)"
   ]
  },
  {
   "cell_type": "code",
   "execution_count": null,
   "id": "f003238f-9df7-4aad-95f3-4651c24466cb",
   "metadata": {},
   "outputs": [],
   "source": [
    "#reverse string\n",
    "input_string = 'BITM'\n",
    "rev = input_string[::-1]\n",
    "\n",
    "if input_string == rev:\n",
    "    print(rev + \" is Palindrome\")\n",
    "else:\n",
    "    print(rev + \" is not Palindrome\")"
   ]
  },
  {
   "cell_type": "code",
   "execution_count": 8,
   "id": "4cbf4a74-a12f-4b7b-ad71-9fb7b4719cc5",
   "metadata": {},
   "outputs": [
    {
     "name": "stdout",
     "output_type": "stream",
     "text": [
      "[1, 'cat', 2.3]\n",
      "cat\n",
      "<class 'str'>\n",
      "c\n"
     ]
    }
   ],
   "source": [
    "#array\n",
    "a=[1,'cat',2.3]\n",
    "print(a)\n",
    "print(a[1])\n",
    "print(type(a[1][0]))\n",
    "print(a[1][0])\n"
   ]
  },
  {
   "cell_type": "code",
   "execution_count": 11,
   "id": "508f322c-584f-4638-9d6f-5bd5a356e15e",
   "metadata": {},
   "outputs": [
    {
     "name": "stdout",
     "output_type": "stream",
     "text": [
      "0\n",
      "1\n",
      "2\n",
      "3\n",
      "4\n"
     ]
    }
   ],
   "source": [
    "#array\n",
    "a=[1,2,3,4,5,6]\n",
    "for i in range(0,5):\n",
    "    print(i)"
   ]
  },
  {
   "cell_type": "code",
   "execution_count": 28,
   "id": "bbb73bf5-b836-438e-87c1-3480dbb27058",
   "metadata": {},
   "outputs": [
    {
     "name": "stdout",
     "output_type": "stream",
     "text": [
      "19\n"
     ]
    }
   ],
   "source": [
    "#arraysum\n",
    "a=[1,5,6,3,4]\n",
    "sum=0\n",
    "for i in range(-1,a[4]):\n",
    "    sum=sum+a[i]\n",
    "print(sum)"
   ]
  },
  {
   "cell_type": "code",
   "execution_count": 29,
   "id": "59909693-ebe5-4fda-98f7-3dfc62bff9cc",
   "metadata": {},
   "outputs": [
    {
     "name": "stdin",
     "output_type": "stream",
     "text": [
      "enter the array elements 1 2 3 4 5\n"
     ]
    },
    {
     "ename": "IndexError",
     "evalue": "list assignment index out of range",
     "output_type": "error",
     "traceback": [
      "\u001b[1;31m---------------------------------------------------------------------------\u001b[0m",
      "\u001b[1;31mIndexError\u001b[0m                                Traceback (most recent call last)",
      "Cell \u001b[1;32mIn[29], line 1\u001b[0m\n\u001b[1;32m----> 1\u001b[0m \u001b[43ma\u001b[49m\u001b[43m[\u001b[49m\u001b[38;5;241;43m5\u001b[39;49m\u001b[43m]\u001b[49m\u001b[38;5;241m=\u001b[39m\u001b[38;5;28minput\u001b[39m(\u001b[38;5;124m\"\u001b[39m\u001b[38;5;124menter the array elements\u001b[39m\u001b[38;5;124m\"\u001b[39m)\n\u001b[0;32m      3\u001b[0m \u001b[38;5;28;01mfor\u001b[39;00m i \u001b[38;5;129;01min\u001b[39;00m \u001b[38;5;28mrange\u001b[39m(\u001b[38;5;241m0\u001b[39m,\u001b[38;5;241m4\u001b[39m):\n\u001b[0;32m      4\u001b[0m          \u001b[38;5;28mprint\u001b[39m(i)\n",
      "\u001b[1;31mIndexError\u001b[0m: list assignment index out of range"
     ]
    }
   ],
   "source": [
    "a[5]=input(\"enter the array elements\")\n",
    "\n",
    "for i in range(0,4):\n",
    "         print(i)"
   ]
  },
  {
   "cell_type": "markdown",
   "id": "ffec947e-439d-4a36-994d-1bacfd06c434",
   "metadata": {},
   "source": []
  },
  {
   "cell_type": "code",
   "execution_count": 34,
   "id": "3f431a97-c8e0-49a1-8707-98b6801d873d",
   "metadata": {},
   "outputs": [
    {
     "name": "stdout",
     "output_type": "stream",
     "text": [
      "[1, 2, 3, 4, 6]\n",
      "6\n",
      "[1, 2, 3, 4]\n",
      "[1, 2, 3, 4, 10, 3, 16, 2]\n",
      "[1, 2, 5, 3, 4, 10, 3, 16, 2]\n",
      "[1, 2, 5, 4, 10, 3, 16, 2]\n",
      "[1, 2, 2, 3, 4, 5, 10, 16]\n",
      "[16, 10, 5, 4, 3, 2, 2, 1]\n",
      "[1, 2, 2, 3, 4, 5, 10, 16]\n"
     ]
    }
   ],
   "source": [
    "a=[1,2,3,4,6]\n",
    "b=a.copy()#used create same set of array\n",
    "print(b)\n",
    "\n",
    "c=b.pop()#used to delete the element\n",
    "print(c)\n",
    "\n",
    "print(b)\n",
    "b.append(10)#used to add another element and it adds at the end of the array by default\n",
    "b.append(3)\n",
    "b.append(16)\n",
    "b.append(2)\n",
    "\n",
    "print(b)\n",
    "\n",
    "b.insert(2,5)#inserts the element at the specified location \n",
    "print(b)\n",
    "\n",
    "b.remove(3)\n",
    "print(b)\n",
    "\n",
    "b.sort()\n",
    "print(b)\n",
    "\n",
    "b.sort(reverse=True)\n",
    "print(b)\n",
    "b.sort()\n",
    "print(b)\n",
    "\n",
    "\n"
   ]
  },
  {
   "cell_type": "code",
   "execution_count": 35,
   "id": "69e929e4-d978-48d1-ade2-8bef40a0da70",
   "metadata": {},
   "outputs": [
    {
     "name": "stdout",
     "output_type": "stream",
     "text": [
      "16\n",
      "10\n",
      "5\n",
      "4\n",
      "3\n",
      "2\n",
      "2\n",
      "1\n"
     ]
    }
   ],
   "source": [
    "a=[16, 10, 5, 4, 3, 2, 2, 1]\n",
    "for x in a:#for each loop\n",
    "    print(x)"
   ]
  },
  {
   "cell_type": "code",
   "execution_count": 42,
   "id": "b09d08b9-29f4-4ce3-b70a-ebd43ffa689c",
   "metadata": {},
   "outputs": [
    {
     "name": "stdout",
     "output_type": "stream",
     "text": [
      "[0, 2, 3, 5, 6]\n"
     ]
    }
   ],
   "source": [
    "\n",
    "z=[]\n",
    "z.append(0)\n",
    "z.append(2)\n",
    "z.append(3)\n",
    "z.append(5)\n",
    "z.append(6)\n",
    "print(z)\n",
    "\n"
   ]
  },
  {
   "cell_type": "code",
   "execution_count": 43,
   "id": "37890a8d-5772-4f2d-88e5-9a2c6b5e65b2",
   "metadata": {},
   "outputs": [
    {
     "name": "stdin",
     "output_type": "stream",
     "text": [
      "enetr the elemnets 1 2 3 4 6\n"
     ]
    },
    {
     "name": "stdout",
     "output_type": "stream",
     "text": [
      "['1', '2', '3', '4', '6']\n"
     ]
    }
   ],
   "source": [
    "x=[a for a in (input(\"enetr the elemnets\").split())]#\n",
    "print(x)#to read the elements of array"
   ]
  },
  {
   "cell_type": "code",
   "execution_count": null,
   "id": "36e0f75f-9024-4b91-a2e6-b5049f78519a",
   "metadata": {},
   "outputs": [],
   "source": [
    "#tuple :it gives rigid data which is immutable\n",
    "#we cant update,append,access the data\n",
    "#we can copy\n",
    "a=[1,'tedy',2,3.4]\n",
    "print(a)\n"
   ]
  },
  {
   "cell_type": "code",
   "execution_count": 58,
   "id": "aa93e278-b208-4733-b0e4-67353844ee61",
   "metadata": {},
   "outputs": [
    {
     "name": "stdout",
     "output_type": "stream",
     "text": [
      "6\n",
      "5\n",
      "4\n",
      "3\n",
      "2\n",
      "1\n"
     ]
    }
   ],
   "source": [
    "#reverse the array\n",
    "a=[1,2,3,4,5,6]\n",
    "for i in range(0,6):#(-1,-1*(len(a)+1),-1) or -1,-7,-1\n",
    "    print(a[-1*(i+1)])#a[i]"
   ]
  },
  {
   "cell_type": "code",
   "execution_count": 62,
   "id": "56daef22-d1ac-432b-8ceb-95e09e2776e9",
   "metadata": {},
   "outputs": [
    {
     "name": "stdout",
     "output_type": "stream",
     "text": [
      "{1: 'ted', 2: 'happy', 3: 'key'}\n",
      "happy\n",
      "dict_keys([1, 2, 3])\n",
      "dict_items([(1, 'ted'), (2, 'happy'), (3, 'key')])\n",
      "dict_values(['ted', 'happy', 'key'])\n",
      "None\n"
     ]
    }
   ],
   "source": [
    "#dictonary\n",
    "#set of key and values,key values pair,we use curly braces for dictonary\n",
    "d={1:'ted',2:'happy',3:'key'}#if we overwrite the key value than it will overwrite\n",
    "print(d)\n",
    "print(d[2])#2is treated as key,no value is used in the place of key to access\n",
    "print(d.keys())\n",
    "print(d.items())\n",
    "print(d.values())\n",
    "print(d.get(4))"
   ]
  },
  {
   "cell_type": "code",
   "execution_count": 63,
   "id": "a68f10a5-5f61-4d9d-b381-b28a0849d3ec",
   "metadata": {},
   "outputs": [
    {
     "name": "stdin",
     "output_type": "stream",
     "text": [
      "enter the key and value 3\n",
      "enter key 1\n",
      "enetr value hat\n"
     ]
    },
    {
     "name": "stdout",
     "output_type": "stream",
     "text": [
      "new key and value added\n"
     ]
    },
    {
     "name": "stdin",
     "output_type": "stream",
     "text": [
      "enter key 1\n",
      "enetr value hat\n"
     ]
    },
    {
     "name": "stdout",
     "output_type": "stream",
     "text": [
      "key aldredy exist hat\n"
     ]
    },
    {
     "name": "stdin",
     "output_type": "stream",
     "text": [
      "enter key 1\n",
      "enetr value fun\n"
     ]
    },
    {
     "name": "stdout",
     "output_type": "stream",
     "text": [
      "key aldredy exist hat\n",
      "final dict is hat\n"
     ]
    }
   ],
   "source": [
    "#write the prog to take key and value input from the user and add it into the dict if key is not present we hve to add key value\n",
    "#otherwise print key aldredy exist and print its corresponding value \n",
    "d={}\n",
    "n=int(input(\"enter the size of dictonary\"))\n",
    "for i in range(n):\n",
    "    key=input(\"enter key\")\n",
    "    \n",
    "    value=input(\"enetr value\")\n",
    "\n",
    "    if key in d:\n",
    "        print(\"key aldredy exist\",d[key])\n",
    "    else:\n",
    "        d[key]=value\n",
    "        print(\"new key and value added\")\n",
    "    \n",
    "\n",
    "print(\"final dict is\",d[key])\n"
   ]
  },
  {
   "cell_type": "code",
   "execution_count": 65,
   "id": "2b8a8974-57a2-4016-9f98-37da7c004fa0",
   "metadata": {},
   "outputs": [
    {
     "name": "stdin",
     "output_type": "stream",
     "text": [
      " 2 0\n"
     ]
    },
    {
     "name": "stdout",
     "output_type": "stream",
     "text": [
      "we cant divide by zero\n",
      "error handled\n"
     ]
    }
   ],
   "source": [
    "#exception and error\n",
    "#errors will stop the execution ,thy are caused due to synatx \n",
    "#syntax error,indentation error,name error,Valueerror,Zerodivsionerror(exception),typeerror,index error,keyerror,attribute arror(lower()function )\n",
    "#exception:try bloc(to test the power of the code or errors)\n",
    "#except block will handle the error\n",
    "#elseblock\n",
    "#finalblock\n",
    "\n",
    "a,b=map(int,input().split())\n",
    "try:\n",
    "    c=a/b\n",
    "except:\n",
    "    print(\"we cant divide by zero\")\n",
    "    c=0\n",
    "else:\n",
    "    print(\"divsion succeful\")\n",
    "    print(c)\n",
    "finally:\n",
    "    print(\"error handled\")\n",
    "\n",
    "\n"
   ]
  },
  {
   "cell_type": "code",
   "execution_count": 74,
   "id": "91c0fce5-5547-4388-b5d0-f5e67c0d0a74",
   "metadata": {},
   "outputs": [
    {
     "name": "stdin",
     "output_type": "stream",
     "text": [
      "enetr the index 6\n"
     ]
    },
    {
     "name": "stdout",
     "output_type": "stream",
     "text": [
      "we cant access the element out of ramge\n",
      "error handled\n",
      "the result  [1, 2, 3, 4]\n"
     ]
    }
   ],
   "source": [
    "a=[1,2,3,4]\n",
    "index=int(input(\"enetr the index\"))\n",
    "try:\n",
    "    d=a[index]\n",
    "except:\n",
    "    print(\"we cant access the element out of ramge\" )\n",
    "else:\n",
    "    print(\"access succeful\")\n",
    "    print(d)\n",
    "finally:\n",
    "    print(\"error handled\")\n",
    "print(\"the final result is\",a)"
   ]
  },
  {
   "cell_type": "code",
   "execution_count": 75,
   "id": "fb99035c-a900-470d-b7a7-84430784c394",
   "metadata": {},
   "outputs": [
    {
     "name": "stdin",
     "output_type": "stream",
     "text": [
      "enetr the age apple\n"
     ]
    },
    {
     "name": "stdout",
     "output_type": "stream",
     "text": [
      "we can have the age as integer\n"
     ]
    }
   ],
   "source": [
    "#Create a program to read user input for their age. Handle the exception if the user enters a non-numeric value.\n",
    "try:\n",
    "    age=int(input(\"enetr the age\"))\n",
    "except:\n",
    "    print(\"we can have the age as integer\")\n",
    "else:\n",
    "    print(age)\n",
    "\n",
    "    \n",
    "    "
   ]
  },
  {
   "cell_type": "code",
   "execution_count": 78,
   "id": "f3f28e98-9f86-4e21-aa61-fc5cb86f308d",
   "metadata": {},
   "outputs": [
    {
     "name": "stdin",
     "output_type": "stream",
     "text": [
      "Enter the file name:  dummy\n"
     ]
    },
    {
     "name": "stdout",
     "output_type": "stream",
     "text": [
      "file not found\n"
     ]
    }
   ],
   "source": [
    "try:\n",
    "    # Prompt the user to enter the file name\n",
    "    file_name = input(\"Enter the file name: \")\n",
    "\n",
    "    # Open the file in read mode\n",
    "    with open(file_name, 'r') as file:\n",
    "        # Read the contents of the file\n",
    "        contents = file.read()\n",
    "        # Display the contents of the file\n",
    "        print(\"File Contents:\")\n",
    "        print(contents)\n",
    "except:\n",
    "    print(\"file not found\")"
   ]
  },
  {
   "cell_type": "code",
   "execution_count": 82,
   "id": "f3fdb0fd-174a-4f05-a379-422b6db84792",
   "metadata": {},
   "outputs": [
    {
     "name": "stdin",
     "output_type": "stream",
     "text": [
      "Enter two integers separated by space:  12 0\n",
      "Enter your age:  45\n"
     ]
    },
    {
     "name": "stdout",
     "output_type": "stream",
     "text": [
      "We can't access out of range\n"
     ]
    }
   ],
   "source": [
    "try:\n",
    "    a=[1,'ram',2,3.5]\n",
    "    x,y=map(int,input().split())\n",
    "    age=int(input())\n",
    "    print(a[4])\n",
    "    z=x/y\n",
    "except ZeroDivisionError:\n",
    "    print(\"cant divide by zero\")\n",
    "except IndexError:\n",
    "    print(\"we cant access out of range\")\n",
    "except:\n",
    "    print(\"some unknown error\")\n",
    "else:\n",
    "    print(\"error handled\")\n",
    "    print(z)\n",
    "    print(age)\n",
    "    print(a[4])\n",
    "  \n",
    "\n",
    "    "
   ]
  },
  {
   "cell_type": "code",
   "execution_count": null,
   "id": "6c2495e3-0b82-4b10-9363-2d6b7d81e14e",
   "metadata": {},
   "outputs": [],
   "source": [
    "#write a pyth prog to find the sum all elements in list and handle the case if its consits of non numeric value"
   ]
  },
  {
   "cell_type": "code",
   "execution_count": null,
   "id": "59545406-9f88-4c1e-9aae-39c5b2a2d8e8",
   "metadata": {},
   "outputs": [],
   "source": [
    "#create a dict containing the name of s"
   ]
  }
 ],
 "metadata": {
  "kernelspec": {
   "display_name": "Python 3 (ipykernel)",
   "language": "python",
   "name": "python3"
  },
  "language_info": {
   "codemirror_mode": {
    "name": "ipython",
    "version": 3
   },
   "file_extension": ".py",
   "mimetype": "text/x-python",
   "name": "python",
   "nbconvert_exporter": "python",
   "pygments_lexer": "ipython3",
   "version": "3.12.3"
  }
 },
 "nbformat": 4,
 "nbformat_minor": 5
}
