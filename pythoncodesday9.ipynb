{
 "cells": [
  {
   "cell_type": "code",
   "execution_count": 4,
   "id": "820e367b-ca8d-4f6c-822a-2de402a7a5d8",
   "metadata": {},
   "outputs": [
    {
     "name": "stdin",
     "output_type": "stream",
     "text": [
      "enter the elements 1 2 3 4\n",
      "enter the value u want to add 6\n"
     ]
    },
    {
     "name": "stdout",
     "output_type": "stream",
     "text": [
      "queue after adding the element: ['1', '2', '3', '4', '6']\n",
      "deletd element is:\n",
      " 1\n",
      "queue after deleting the element ['2', '3', '4', '6']\n"
     ]
    }
   ],
   "source": [
    "#queue\n",
    "\n",
    "queue=input(\"enter the elements\").split()\n",
    "def add():\n",
    "    val=input(\"enter the value u want to add\")\n",
    "    queue.append(val)\n",
    "    return queue\n",
    "\n",
    "def remove():\n",
    "    delval=queue.pop(0)\n",
    "    print(\"deletd element is:\\n\",delval)\n",
    "    return queue\n",
    "\n",
    "print(\"queue after adding the element:\",add())\n",
    "print(\"queue after deleting the element\",remove())\n",
    "    \n"
   ]
  },
  {
   "cell_type": "code",
   "execution_count": 18,
   "id": "7d8f1896-deb0-4ff9-97f2-3b935076e77d",
   "metadata": {},
   "outputs": [
    {
     "name": "stdin",
     "output_type": "stream",
     "text": [
      " this is useless coder\n"
     ]
    },
    {
     "name": "stdout",
     "output_type": "stream",
     "text": [
      "coder useless is this "
     ]
    }
   ],
   "source": [
    "#reverse a string using stack\n",
    "string = input()\n",
    "s=[]\n",
    "for x in string.split():\n",
    "    s.append(x)\n",
    "\n",
    "while len(s)>0:\n",
    "    print(s.pop(),end=\" \")\n",
    "\n",
    "\n"
   ]
  },
  {
   "cell_type": "code",
   "execution_count": 36,
   "id": "d4702d11-7fea-4d0d-975f-f8eadd3ef889",
   "metadata": {},
   "outputs": [
    {
     "name": "stdin",
     "output_type": "stream",
     "text": [
      " (a+b^^c)\n"
     ]
    },
    {
     "name": "stdout",
     "output_type": "stream",
     "text": [
      "postfix expression is  abc^^+\n"
     ]
    }
   ],
   "source": [
    "#convert infix to postfix\n",
    "expr=input()\n",
    "\n",
    "stack=[]\n",
    "postfix=\" \"\n",
    "\n",
    "def prec(x):\n",
    "    if x == '^':\n",
    "        return 3\n",
    "    elif x == '/' or x == '*':\n",
    "        return 2\n",
    "    elif x == '+' or x == '-':\n",
    "        return 1\n",
    "    else:\n",
    "        return -1\n",
    "def ass(x):\n",
    "    if x == '^':\n",
    "        return 'R'\n",
    "    return 'L'\n",
    "    \n",
    "for x in expr:\n",
    "    if x.isalnum():\n",
    "        postfix+=x\n",
    "    elif x=='(':\n",
    "        stack.append(x)\n",
    "    elif x==')':\n",
    "        while stack[-1]!='(':\n",
    "            postfix+=stack.pop()\n",
    "        stack.pop()\n",
    "    else:\n",
    "        while stack and (prec(x)<prec(stack[-1]) or (prec(x)==prec(stack[-1]) and ass(x)=='L')):\n",
    "            postfix+=stack.pop()\n",
    "        stack.append(x)\n",
    "\n",
    "while stack:\n",
    "    postfix+=stack.pop()\n",
    "\n",
    "\n",
    "print(\"postfix expression is\",postfix)\n",
    "        \n",
    "\n",
    "\n",
    "        \n",
    "        \n",
    "    \n",
    "        "
   ]
  },
  {
   "cell_type": "code",
   "execution_count": 44,
   "id": "24ee172e-66fe-4800-a28a-19bc061f87b9",
   "metadata": {},
   "outputs": [
    {
     "name": "stdout",
     "output_type": "stream",
     "text": [
      "6 ['apple', 'dal', 'chapathi', 'dal', 'rice', 'dal']\n"
     ]
    }
   ],
   "source": [
    "s=[\"apple\",\"dal\",\"chapathi\",\"rice\",\"rice\",\"apple\",\"apple\",\"dal\",\"rice\",\"dal\",\"chapathi\",\"chapathi\"]\n",
    "q=[]\n",
    "\n",
    "for i in s:\n",
    "    if not q:\n",
    "        q.append(i)\n",
    "    elif q[-1]==i:\n",
    "        q.pop()\n",
    "    else:\n",
    "        q.append(i)\n",
    "print(len(q),q)\n",
    "    \n"
   ]
  },
  {
   "cell_type": "code",
   "execution_count": 25,
   "id": "9f27b0aa-e48e-4a29-b029-717f1c62774d",
   "metadata": {},
   "outputs": [
    {
     "name": "stdin",
     "output_type": "stream",
     "text": [
      " ())\n"
     ]
    },
    {
     "name": "stdout",
     "output_type": "stream",
     "text": [
      "[]\n",
      "['(']\n",
      "[]\n"
     ]
    },
    {
     "ename": "IndexError",
     "evalue": "list index out of range",
     "output_type": "error",
     "traceback": [
      "\u001b[1;31m---------------------------------------------------------------------------\u001b[0m",
      "\u001b[1;31mIndexError\u001b[0m                                Traceback (most recent call last)",
      "Cell \u001b[1;32mIn[25], line 11\u001b[0m\n\u001b[0;32m      9\u001b[0m \u001b[38;5;28;01mif\u001b[39;00m ch\u001b[38;5;241m==\u001b[39m\u001b[38;5;124m'\u001b[39m\u001b[38;5;124m(\u001b[39m\u001b[38;5;124m'\u001b[39m \u001b[38;5;129;01mor\u001b[39;00m ch\u001b[38;5;241m==\u001b[39m\u001b[38;5;124m'\u001b[39m\u001b[38;5;124m{\u001b[39m\u001b[38;5;124m'\u001b[39m \u001b[38;5;129;01mor\u001b[39;00m ch\u001b[38;5;241m==\u001b[39m\u001b[38;5;124m'\u001b[39m\u001b[38;5;124m[\u001b[39m\u001b[38;5;124m'\u001b[39m:\n\u001b[0;32m     10\u001b[0m         stack\u001b[38;5;241m.\u001b[39mappend(ch)\n\u001b[1;32m---> 11\u001b[0m \u001b[38;5;28;01melif\u001b[39;00m (ch\u001b[38;5;241m==\u001b[39m\u001b[38;5;124m'\u001b[39m\u001b[38;5;124m)\u001b[39m\u001b[38;5;124m'\u001b[39m\u001b[38;5;129;01mand\u001b[39;00m \u001b[43mstack\u001b[49m\u001b[43m[\u001b[49m\u001b[38;5;241;43m-\u001b[39;49m\u001b[38;5;241;43m1\u001b[39;49m\u001b[43m]\u001b[49m\u001b[38;5;241m==\u001b[39m\u001b[38;5;124m'\u001b[39m\u001b[38;5;124m(\u001b[39m\u001b[38;5;124m'\u001b[39m) \u001b[38;5;129;01mor\u001b[39;00m (ch\u001b[38;5;241m==\u001b[39m\u001b[38;5;124m'\u001b[39m\u001b[38;5;124m}\u001b[39m\u001b[38;5;124m'\u001b[39m\u001b[38;5;129;01mand\u001b[39;00m stack[\u001b[38;5;241m-\u001b[39m\u001b[38;5;241m1\u001b[39m]\u001b[38;5;241m==\u001b[39m\u001b[38;5;124m'\u001b[39m\u001b[38;5;124m{\u001b[39m\u001b[38;5;124m'\u001b[39m)\u001b[38;5;129;01mor\u001b[39;00m (ch\u001b[38;5;241m==\u001b[39m\u001b[38;5;124m'\u001b[39m\u001b[38;5;124m]\u001b[39m\u001b[38;5;124m'\u001b[39m\u001b[38;5;129;01mand\u001b[39;00m stack[\u001b[38;5;241m-\u001b[39m\u001b[38;5;241m1\u001b[39m]\u001b[38;5;241m==\u001b[39m\u001b[38;5;124m'\u001b[39m\u001b[38;5;124m[\u001b[39m\u001b[38;5;124m'\u001b[39m):\n\u001b[0;32m     12\u001b[0m     stack\u001b[38;5;241m.\u001b[39mpop()\n\u001b[0;32m     13\u001b[0m \u001b[38;5;28;01melse\u001b[39;00m:\n",
      "\u001b[1;31mIndexError\u001b[0m: list index out of range"
     ]
    }
   ],
   "source": [
    "s = input()\n",
    "\n",
    "\n",
    "stack = []\n",
    "\n",
    "\n",
    "for ch in s:\n",
    "    print(stack)\n",
    "    if ch=='(' or ch=='{' or ch=='[':\n",
    "            stack.append(ch)\n",
    "    elif (ch==')'and stack[-1]=='(') or (ch=='}'and stack[-1]=='{')or (ch==']'and stack[-1]=='['):\n",
    "        stack.pop()\n",
    "    else:\n",
    "        continue\n",
    "\n",
    "\n",
    "\n",
    "if not stack:\n",
    "    print(\"valid\")\n",
    "else:\n",
    "    print(\"invalid\")\n",
    "\n",
    "\n",
    "            "
   ]
  },
  {
   "cell_type": "code",
   "execution_count": null,
   "id": "a1fb8478-ad97-4fdf-aa3b-c0514037a6fc",
   "metadata": {},
   "outputs": [],
   "source": [
    "#recursion:\n"
   ]
  }
 ],
 "metadata": {
  "kernelspec": {
   "display_name": "Python 3 (ipykernel)",
   "language": "python",
   "name": "python3"
  },
  "language_info": {
   "codemirror_mode": {
    "name": "ipython",
    "version": 3
   },
   "file_extension": ".py",
   "mimetype": "text/x-python",
   "name": "python",
   "nbconvert_exporter": "python",
   "pygments_lexer": "ipython3",
   "version": "3.12.3"
  }
 },
 "nbformat": 4,
 "nbformat_minor": 5
}
