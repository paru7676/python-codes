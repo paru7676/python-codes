{
 "cells": [
  {
   "cell_type": "code",
   "execution_count": 1,
   "id": "a8eec387-d9fe-40e4-8476-a8962928c408",
   "metadata": {},
   "outputs": [
    {
     "name": "stdin",
     "output_type": "stream",
     "text": [
      "enter the key: 45\n"
     ]
    },
    {
     "name": "stdout",
     "output_type": "stream",
     "text": [
      "[11, 12, 15, 22, 25, 35, 36, 42, 45, 51, 54, 55, 62, 63, 75, 77, 78, 84, 88, 96, 98]\n",
      "element found at  10\n"
     ]
    }
   ],
   "source": [
    "#binary search\n",
    "\n",
    "l=[78,45,12,98,62,35,36,84,51,75,54,96,55,77,88,11,22,42,15,63,25,]\n",
    "l.sort()\n",
    "low=0\n",
    "high=len(l)\n",
    "search=int(input(\"enter the key:\"))\n",
    "flag=0\n",
    "while low<high:\n",
    "    mid=int((low+(high-low)/2))\n",
    "    if search>l[mid]:\n",
    "        high=mid-1\n",
    "    elif search>l[mid]:\n",
    "        low=mid+1\n",
    "    else:\n",
    "        flag=1\n",
    "        break\n",
    "print(l)\n",
    "if flag==1:\n",
    "    print(\"element found at \",mid)\n",
    "else:\n",
    "    print(\"element not found\")"
   ]
  },
  {
   "cell_type": "code",
   "execution_count": 16,
   "id": "df007906-bc36-4607-8845-01c0ac5efa7a",
   "metadata": {},
   "outputs": [
    {
     "name": "stdin",
     "output_type": "stream",
     "text": [
      " hey shutter (is{lan[d)} is]\n"
     ]
    },
    {
     "name": "stdout",
     "output_type": "stream",
     "text": [
      "valid string\n"
     ]
    }
   ],
   "source": [
    "#quick sort\n",
    "s=input()\n",
    "x=y=z=0\n",
    "for ch in s:\n",
    "    match(ch):\n",
    "        case '(':x+=1\n",
    "        case ')':x-=1\n",
    "        case '{':y+=1\n",
    "        case '}':y-=1\n",
    "        case '[':z+=1\n",
    "        case ']':z-=1\n",
    "        case  _: continue\n",
    "\n",
    "if x+y+z == 0:\n",
    "    print(\"valid string\")\n",
    "else:\n",
    "    print(\"invalid string\")\n",
    "\n",
    "        "
   ]
  },
  {
   "cell_type": "code",
   "execution_count": 38,
   "id": "b3102c01-db1b-46a6-8293-965eafb06ecf",
   "metadata": {},
   "outputs": [
    {
     "name": "stdin",
     "output_type": "stream",
     "text": [
      "Enter the stack elements:  1 2 3 4\n",
      "Enter the element to be inserted:  6\n"
     ]
    },
    {
     "name": "stdout",
     "output_type": "stream",
     "text": [
      "Stack after adding: ['1', '2', '3', '4', 6]\n",
      "Deleted element is: 6\n",
      "Stack after deleting: ['1', '2', '3', '4']\n"
     ]
    }
   ],
   "source": [
    "#stacks\n",
    "\n",
    "stack = input('Enter the stack elements: ').split()\n",
    "\n",
    "def add():\n",
    "    val = int(input(\"Enter the element to be inserted: \"))\n",
    "    stack.append(val)\n",
    "    return stack\n",
    "\n",
    "def delete():\n",
    "    \n",
    "    value = stack.pop()\n",
    "    print(\"Deleted element is:\", value)\n",
    "    return stack\n",
    "\n",
    "print(\"Stack after adding:\", add())\n",
    "print(\"Stack after deleting:\", delete())\n",
    "\n",
    "    \n",
    "    "
   ]
  },
  {
   "cell_type": "code",
   "execution_count": null,
   "id": "f26e4c89-e3bb-4724-b519-04a234991e48",
   "metadata": {},
   "outputs": [],
   "source": []
  }
 ],
 "metadata": {
  "kernelspec": {
   "display_name": "Python 3 (ipykernel)",
   "language": "python",
   "name": "python3"
  },
  "language_info": {
   "codemirror_mode": {
    "name": "ipython",
    "version": 3
   },
   "file_extension": ".py",
   "mimetype": "text/x-python",
   "name": "python",
   "nbconvert_exporter": "python",
   "pygments_lexer": "ipython3",
   "version": "3.12.3"
  }
 },
 "nbformat": 4,
 "nbformat_minor": 5
}
