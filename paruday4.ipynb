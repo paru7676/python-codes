{
 "cells": [
  {
   "cell_type": "code",
   "execution_count": 16,
   "id": "16b66153-ec53-4b62-bb01-4128f393f479",
   "metadata": {},
   "outputs": [
    {
     "name": "stdin",
     "output_type": "stream",
     "text": [
      " 15\n"
     ]
    },
    {
     "name": "stdout",
     "output_type": "stream",
     "text": [
      " not prime\n"
     ]
    }
   ],
   "source": [
    " #prime number\n",
    "n=int(input())\n",
    "\n",
    "for i in range(2,int(n/2)):\n",
    "    if n%i==0:\n",
    "        print(\" not prime\")\n",
    "        break\n",
    "else:\n",
    "    print(\"prime\")"
   ]
  },
  {
   "cell_type": "code",
   "execution_count": null,
   "id": "3b6108d7-2e81-4781-8e4a-466b7244f997",
   "metadata": {},
   "outputs": [],
   "source": [
    "#file handling\n",
    "#operations of file handling :create,read ,update ,delete\n",
    " if name=='main':\n",
    "     filename=\"example.txt\"\n",
    "     newfileName=\"newexample.txt\"\n",
    "     createfile(filename)\n",
    "     readfile(filename)\n",
    "     appendfile(filename,\"heyy file\")\n",
    "     "
   ]
  },
  {
   "cell_type": "code",
   "execution_count": 23,
   "id": "3985e224-8d0e-4a94-a89c-dbc3e6c1b2d8",
   "metadata": {},
   "outputs": [],
   "source": [
    "#to write the file\n",
    "import os\n",
    "\n",
    "\n",
    "with open(\"filetxt\",'w') as f:#as f is a relation with compiler and memory,its path name with memory ,user and compliler\n",
    "     f.write(\"hey file\")\n",
    "\n",
    "      \n",
    "    "
   ]
  },
  {
   "cell_type": "code",
   "execution_count": 28,
   "id": "a13001b0-6b69-4524-9dd4-b871e407bc60",
   "metadata": {},
   "outputs": [
    {
     "name": "stdout",
     "output_type": "stream",
     "text": [
      "hey\n",
      "fileheyy\n",
      "add\n",
      "text\n",
      "sad\n"
     ]
    }
   ],
   "source": [
    "#to read the file\n",
    "import os\n",
    "\n",
    "with open(\"filetxt\",'r') as f:\n",
    "    for i in f.read().split():\n",
    "        print(i)\n",
    "    print('sad')\n",
    "\n",
    "        \n",
    "    f.close()"
   ]
  },
  {
   "cell_type": "code",
   "execution_count": 26,
   "id": "225cb1db-e1b3-40a9-a5e6-79f98fac1a17",
   "metadata": {},
   "outputs": [],
   "source": [
    "#append file\n",
    "import os \n",
    "\n",
    "with open(\"filetxt\",'a') as f:\n",
    "    f.write(\"heyy add text\")\n",
    "    \n",
    "        "
   ]
  },
  {
   "cell_type": "code",
   "execution_count": 31,
   "id": "2514cbdf-d7ce-49d0-9f60-bfd263e03047",
   "metadata": {},
   "outputs": [
    {
     "name": "stdout",
     "output_type": "stream",
     "text": [
      "file deleted\n"
     ]
    }
   ],
   "source": [
    "#deletefile\n",
    "import os\n",
    "\n",
    "os.remove(\"filetxt\")\n",
    "print(\"file deleted\")"
   ]
  },
  {
   "cell_type": "code",
   "execution_count": 38,
   "id": "2801bb6e-c27a-4d20-a036-620b343f9175",
   "metadata": {},
   "outputs": [
    {
     "name": "stdout",
     "output_type": "stream",
     "text": [
      "file doesnt exist\n",
      "error handled\n"
     ]
    }
   ],
   "source": [
    "#exception with filehandling\n",
    "\n",
    "import os\n",
    "\n",
    "with open(\"filetxt\",'w')as f:\n",
    "        f.write(\"exception with files\")\n",
    "\n",
    "try:\n",
    "    with open(\"filet\",'r')as f:\n",
    "        for i in f.read().split():#for each loop to read the contents file\n",
    "            print(i)\n",
    "except:\n",
    "    print(\"file doesnt exist\")\n",
    "\n",
    "finally:\n",
    "    print(\"error handled\")\n",
    "    "
   ]
  },
  {
   "cell_type": "code",
   "execution_count": 40,
   "id": "9791b702-4841-4a81-8c96-0791e0a9b10b",
   "metadata": {},
   "outputs": [
    {
     "name": "stdin",
     "output_type": "stream",
     "text": [
      "enter the celsius 32\n"
     ]
    },
    {
     "name": "stdout",
     "output_type": "stream",
     "text": [
      "farhrenheit is: 89\n"
     ]
    }
   ],
   "source": [
    "#convert celsius to farhrenheit\n",
    "\n",
    "cel=int(input(\"enter the celsius\"))\n",
    "far=int(cel*9/5+32)\n",
    "print(\"farhrenheit is:\",far)"
   ]
  },
  {
   "cell_type": "code",
   "execution_count": 42,
   "id": "17cb99c5-0109-4c89-aa08-ab6134d1409a",
   "metadata": {},
   "outputs": [
    {
     "name": "stdout",
     "output_type": "stream",
     "text": [
      "6\n"
     ]
    }
   ],
   "source": [
    "#finding the second largest number\n",
    "a=[1,6,3,9,5]\n",
    "a.sort()\n",
    "print(a[-2])"
   ]
  },
  {
   "cell_type": "code",
   "execution_count": 74,
   "id": "248bda3c-e0a5-4fb8-9199-ede560219f65",
   "metadata": {},
   "outputs": [
    {
     "name": "stdin",
     "output_type": "stream",
     "text": [
      "Enter the fruits name:  Apple Banana Mango Grapes\n"
     ]
    },
    {
     "name": "stdout",
     "output_type": "stream",
     "text": [
      "Apple\n",
      "watermelon\n",
      "Mango\n",
      "Grapes\n"
     ]
    }
   ],
   "source": [
    "\"\"\"Create a file Named as Fruit name\n",
    "and Add the fruit names by taking input from the user.\n",
    "\n",
    "after that replace a fruit name with other fruit name entered by the user.\n",
    "\n",
    "for example:\n",
    "\n",
    "file have \n",
    "Apple\n",
    "Banana\n",
    "Mango\n",
    "Grapes\n",
    "\n",
    "now replace Banana with watermelon\"\"\"\n",
    "\n",
    "\n",
    "\n",
    "import os\n",
    "\n",
    "\n",
    "data = input(\"Enter the fruits name: \")\n",
    "with open(\"fruit\", 'w') as f:\n",
    "    f.write(data)\n",
    "\n",
    "\n",
    "with open(\"fruit\", 'r') as f:\n",
    "    lines = f.read()\n",
    "\n",
    "\n",
    "lines = lines.replace(lines.split()[-3], \"watermelon\")\n",
    "\n",
    "with open(\"fruit\", 'w') as f:\n",
    "    f.write(lines)\n",
    "\n",
    "with open(\"fruit\",'r') as f:\n",
    "    for i in f.read().split():\n",
    "        print(i)\n",
    "\n",
    "\n",
    "        \n",
    "           \n",
    "\n",
    "\n"
   ]
  },
  {
   "cell_type": "code",
   "execution_count": 82,
   "id": "c7569d65-f419-4e47-ac78-6ec088c21ee9",
   "metadata": {},
   "outputs": [
    {
     "name": "stdin",
     "output_type": "stream",
     "text": [
      "enter the value to be counted 2\n"
     ]
    },
    {
     "name": "stdout",
     "output_type": "stream",
     "text": [
      "number of occurences are: 2\n"
     ]
    }
   ],
   "source": [
    "#count the occurences of each element in list \n",
    "\n",
    "list=[2,3,6,2,4,7,4]\n",
    "a=int(input(\"enter the value to be counted\"))\n",
    "count=0\n",
    "for i in list:\n",
    "    if i==a:\n",
    "        count+=1\n",
    "\n",
    "print(\"number of occurences are:\",count)"
   ]
  },
  {
   "cell_type": "code",
   "execution_count": 83,
   "id": "10605851-f5ba-42a4-b117-a95909071ad5",
   "metadata": {},
   "outputs": [
    {
     "name": "stdout",
     "output_type": "stream",
     "text": [
      "sum of even number is: 16\n"
     ]
    }
   ],
   "source": [
    "#sum of even numbers in the list\n",
    "\n",
    "list=[1,2,3,5,6,9,8,3]\n",
    "sum=0\n",
    "for i in list:\n",
    "    if i%2==0:\n",
    "        sum+=i\n",
    "print(\"sum of even number is:\",sum)"
   ]
  },
  {
   "cell_type": "code",
   "execution_count": 9,
   "id": "2fa3341d-107b-4577-9c24-f4b1f756bacd",
   "metadata": {},
   "outputs": [
    {
     "name": "stdin",
     "output_type": "stream",
     "text": [
      "Enter the string:  the sreeja is monkey\n"
     ]
    },
    {
     "name": "stdout",
     "output_type": "stream",
     "text": [
      "Number of vowels in the string: 7\n"
     ]
    }
   ],
   "source": [
    "#find the number of vowels in string\n",
    "\n",
    "string = input(\"Enter the string: \")\n",
    "count = 0\n",
    "\n",
    "vowels = ['a', 'e', 'i', 'o', 'u']\n",
    "for char in string:\n",
    "    if char in vowels:\n",
    "        count += 1\n",
    "\n",
    "print(\"Number of vowels in the string:\", count)\n",
    "\n",
    "    \n",
    "    "
   ]
  },
  {
   "cell_type": "code",
   "execution_count": 5,
   "id": "55c53714-08de-44f6-b8cf-8590f67c38c2",
   "metadata": {},
   "outputs": [
    {
     "name": "stdin",
     "output_type": "stream",
     "text": [
      " The hello\n"
     ]
    },
    {
     "name": "stdout",
     "output_type": "stream",
     "text": [
      "ehT olleh\n"
     ]
    }
   ],
   "source": [
    "#to reverse the words in the given sentence\n",
    "sentence = input()\n",
    "words = sentence.split()\n",
    "reversed_sentence = \" \".join(word[::-1] for word in words)\n",
    "print(reversed_sentence)\n",
    "\n"
   ]
  },
  {
   "cell_type": "code",
   "execution_count": null,
   "id": "08b33c36-3297-444c-b325-0ce783c91bc3",
   "metadata": {},
   "outputs": [],
   "source": []
  }
 ],
 "metadata": {
  "kernelspec": {
   "display_name": "Python 3 (ipykernel)",
   "language": "python",
   "name": "python3"
  },
  "language_info": {
   "codemirror_mode": {
    "name": "ipython",
    "version": 3
   },
   "file_extension": ".py",
   "mimetype": "text/x-python",
   "name": "python",
   "nbconvert_exporter": "python",
   "pygments_lexer": "ipython3",
   "version": "3.12.3"
  }
 },
 "nbformat": 4,
 "nbformat_minor": 5
}
