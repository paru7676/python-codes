{
 "cells": [
  {
   "cell_type": "code",
   "execution_count": 3,
   "id": "c559f72b-6937-44d6-8a55-fdf460d83388",
   "metadata": {},
   "outputs": [
    {
     "name": "stdout",
     "output_type": "stream",
     "text": [
      "cars attr: ['mercedes', 'shift', 'benz'] 20 180km/h 5000cc ka123 1crore black\n",
      "truck attr: 4 2000kg 1000cc tm123 50lakh red\n"
     ]
    }
   ],
   "source": [
    "#practice questions using class\n",
    "class vehicle:\n",
    "    def __init__(self,engine,regPlate,Price,color):\n",
    "        self.engine=engine\n",
    "        self.regPlate=regPlate\n",
    "        self.Price=Price\n",
    "        self.color=color\n",
    "\n",
    "class car(vehicle):\n",
    "    def __init__(self,types,noOfPassengers,maxspeed,engine,regPlate,Price,color):\n",
    "        self.types=types\n",
    "        self.noOfPassengers=noOfPassengers\n",
    "        self.maxspeed=maxspeed\n",
    "        super().__init__(engine,regPlate,Price,color)\n",
    "\n",
    "class truck(vehicle):\n",
    "    def __init__(self,no_ofaxles,loadcapacity,engine,regPlate,Price,color):\n",
    "        self.no_ofaxles = no_ofaxles\n",
    "        self.loadcapacity = loadcapacity\n",
    "        super().__init__(engine,regPlate,Price,color)\n",
    "\n",
    "car1=car(['mercedes','shift','benz'],20,'180km/h','5000cc','ka123','1crore','black')\n",
    "truck1=truck('4','2000kg','1000cc','tm123','50lakh','red')\n",
    "\n",
    "print(\"cars attr:\",car1.types,car1.noOfPassengers,car1.maxspeed,car1.engine,car1.regPlate,car1.Price,car1.color)\n",
    "print(\"truck attr:\",truck1.no_ofaxles,truck1.loadcapacity,truck1.engine,truck1.regPlate,truck1.Price,truck1.color)\n",
    "        \n",
    "        \n",
    "        "
   ]
  },
  {
   "cell_type": "code",
   "execution_count": 7,
   "id": "803c6832-15df-41e9-b74f-dab224af11b1",
   "metadata": {},
   "outputs": [
    {
     "name": "stdout",
     "output_type": "stream",
     "text": [
      "staff attr:\n",
      " asstmanger 4thfloor andy@123 Andyy 20K\n",
      "developer attr:\n",
      " ui/ux website 10 tedy 1lakh\n",
      "manager attr:\n",
      " uber stevejobs clark@13 clark 3lakh\n"
     ]
    }
   ],
   "source": [
    "class employee:\n",
    "    def __init__(self,eid,name,sal):\n",
    "        self.eid=eid\n",
    "        self.name=name\n",
    "        self.sal=sal\n",
    "class staff(employee):\n",
    "    def __init__(self,wtype,warea,eid,name,sal):\n",
    "        self.wtype=wtype\n",
    "        self.warea=warea\n",
    "        super().__init__(eid,name,sal)\n",
    "\n",
    "class dev(employee):\n",
    "     def __init__(self,mod,tec,exp,eid,name,sal):\n",
    "          self.mod=mod\n",
    "          self.tec=tec\n",
    "          self.exp=exp\n",
    "          super().__init__(eid,name,sal)\n",
    "\n",
    "class man(employee):\n",
    "    def __init__(self,pro,cname,eid,name,sal):\n",
    "        self.pro=pro\n",
    "        self.cname=cname\n",
    "        super().__init__(eid,name,sal)\n",
    "\n",
    "staf1=staff(\"asstmanger\",\"4thfloor\",\"andy@123\",'Andyy','20K')\n",
    "dev1=dev('ui/ux','website','10','tedy@123','tedy','1lakh')\n",
    "man1=man('uber','stevejobs','clark@13','clark','3lakh')\n",
    "\n",
    "\n",
    "print(\"staff attr:\\n\",staf1.wtype,staf1.warea,staf1.eid,staf1.name,staf1.sal)\n",
    "print(\"developer attr:\\n\",dev1.mod,dev1.tec,dev1.exp,dev1.name,dev1.sal)\n",
    "print(\"manager attr:\\n\",man1.pro,man1.cname,man1.eid,man1.name,man1.sal)\n",
    "        \n",
    "         \n",
    "         \n",
    "        \n",
    "        \n",
    "        "
   ]
  },
  {
   "cell_type": "code",
   "execution_count": 10,
   "id": "70d312b1-3742-44cd-8617-b3299549e274",
   "metadata": {},
   "outputs": [
    {
     "name": "stdin",
     "output_type": "stream",
     "text": [
      " 5\n"
     ]
    },
    {
     "name": "stdout",
     "output_type": "stream",
     "text": [
      "* * * * * \n",
      "* * * * * \n",
      "* * * * * \n",
      "* * * * * \n",
      "* * * * * \n"
     ]
    }
   ],
   "source": [
    "#working on patterns\n",
    "n=int(input())\n",
    "for i in range(0,n):\n",
    "    for j in range(0,n):\n",
    "        print(\"*\",end=\" \")\n",
    "    print()"
   ]
  },
  {
   "cell_type": "code",
   "execution_count": 11,
   "id": "910ff419-744f-4b64-bde9-5132bb7d80de",
   "metadata": {},
   "outputs": [
    {
     "name": "stdin",
     "output_type": "stream",
     "text": [
      " 5\n"
     ]
    },
    {
     "name": "stdout",
     "output_type": "stream",
     "text": [
      "* * * * \n",
      "* * * \n",
      "* * \n",
      "* \n",
      "\n"
     ]
    }
   ],
   "source": [
    "n=int(input())\n",
    "for i in range(0,n):\n",
    "    for j in range(i+1,n):\n",
    "        print(\"*\",end=\" \")\n",
    "    print()"
   ]
  },
  {
   "cell_type": "code",
   "execution_count": 16,
   "id": "23cd6c19-84f9-4092-9aa5-4631575525e5",
   "metadata": {},
   "outputs": [
    {
     "name": "stdin",
     "output_type": "stream",
     "text": [
      " 5\n"
     ]
    },
    {
     "name": "stdout",
     "output_type": "stream",
     "text": [
      "* \n",
      "* * \n",
      "* * * \n",
      "* * * * \n",
      "* * * * * \n"
     ]
    }
   ],
   "source": [
    "n=int(input())\n",
    "for i in range(0,n):\n",
    "    for j in range(0,i+1):\n",
    "        print(\"*\",end=\" \")\n",
    "    print()\n"
   ]
  },
  {
   "cell_type": "code",
   "execution_count": 34,
   "id": "f2e0588f-a2a0-4fdd-9de1-fbf485490b1c",
   "metadata": {},
   "outputs": [
    {
     "name": "stdin",
     "output_type": "stream",
     "text": [
      " 5\n"
     ]
    },
    {
     "name": "stdout",
     "output_type": "stream",
     "text": [
      "        * \n",
      "      * * * \n",
      "    * * * * * \n",
      "  * * * * * * * \n",
      "* * * * * * * * * \n"
     ]
    }
   ],
   "source": [
    "n=int(input())\n",
    "\n",
    "for i in range(1, n+1):\n",
    "    \n",
    "    for j in range(n-i):\n",
    "        print(\" \", end=\" \")\n",
    "        \n",
    "\n",
    "    for k in range(1, 2*i):\n",
    "            print(\"*\", end=\" \")\n",
    "\n",
    "    print()    \n",
    "\n",
    "   "
   ]
  },
  {
   "cell_type": "code",
   "execution_count": 36,
   "id": "0a66cab5-5e58-40c5-9ab6-bdc7b92e9d7d",
   "metadata": {},
   "outputs": [
    {
     "name": "stdin",
     "output_type": "stream",
     "text": [
      " 4\n"
     ]
    },
    {
     "name": "stdout",
     "output_type": "stream",
     "text": [
      "      1 \n",
      "    2 2 2 \n",
      "  3 3 3 3 3 \n",
      "4 4 4 4 4 4 4 \n"
     ]
    }
   ],
   "source": [
    "n=int(input())\n",
    "\n",
    "for i in range(1, n+1):\n",
    "    \n",
    "    for j in range(n-i):\n",
    "        print(\" \", end=\" \")\n",
    "        \n",
    "\n",
    "    for k in range(1, 2*i):\n",
    "            print(i, end=\" \")\n",
    "\n",
    "    print()    \n"
   ]
  },
  {
   "cell_type": "code",
   "execution_count": 45,
   "id": "74d286c0-77e8-448b-ac14-c2cc42a4812b",
   "metadata": {},
   "outputs": [
    {
     "name": "stdin",
     "output_type": "stream",
     "text": [
      " 5\n"
     ]
    },
    {
     "name": "stdout",
     "output_type": "stream",
     "text": [
      "1 \n",
      "1 2 \n",
      "1 2 3 \n",
      "1 2 3 4 \n"
     ]
    }
   ],
   "source": [
    "n=int(input())\n",
    "for i in range(1,n):\n",
    "    for j in range(1,i+1):\n",
    "        print(j,end=\" \")\n",
    "    print()"
   ]
  },
  {
   "cell_type": "code",
   "execution_count": 46,
   "id": "e75a2828-f5b8-4f22-a8b2-4f773d4d1072",
   "metadata": {},
   "outputs": [
    {
     "name": "stdin",
     "output_type": "stream",
     "text": [
      " 5\n"
     ]
    },
    {
     "name": "stdout",
     "output_type": "stream",
     "text": [
      "* * * * * \n",
      "*       * \n",
      "*       * \n",
      "*       * \n",
      "* * * * * \n"
     ]
    }
   ],
   "source": [
    "n=int(input())\n",
    "for i in range(n):\n",
    "    for j in range(n):\n",
    "        if i==0 or i==n-1 or j==0 or j==n-1:\n",
    "            print(\"*\",end=\" \")\n",
    "        else:\n",
    "            print(\" \",end=\" \")\n",
    "\n",
    "    print()"
   ]
  },
  {
   "cell_type": "code",
   "execution_count": 49,
   "id": "03d4b745-1088-44e7-a2da-427d624e2d2c",
   "metadata": {},
   "outputs": [
    {
     "name": "stdin",
     "output_type": "stream",
     "text": [
      " 5\n"
     ]
    },
    {
     "name": "stdout",
     "output_type": "stream",
     "text": [
      "        * \n",
      "      * * \n",
      "    * * * \n",
      "  * * * * \n",
      "* * * * * \n"
     ]
    }
   ],
   "source": [
    "\n",
    "n=int(input())\n",
    "\n",
    "for i in range(1, n+1):\n",
    "    \n",
    "    for j in range(n-i):\n",
    "        print(\" \", end=\" \")\n",
    "        \n",
    "\n",
    "    for k in range(1,i+1):\n",
    "            print(\"*\", end=\" \")\n",
    "\n",
    "    print()    "
   ]
  },
  {
   "cell_type": "code",
   "execution_count": 59,
   "id": "3edfc214-3706-4c94-8802-58b15a51087b",
   "metadata": {},
   "outputs": [
    {
     "name": "stdin",
     "output_type": "stream",
     "text": [
      " 5\n"
     ]
    },
    {
     "name": "stdout",
     "output_type": "stream",
     "text": [
      "* * * * * * * * * \n",
      "  * * * * * * * \n",
      "    * * * * * \n",
      "      * * * \n",
      "        * \n"
     ]
    }
   ],
   "source": [
    "n=int(input())\n",
    "\n",
    "for i in range(n,0,-1):\n",
    "    \n",
    "    for j in range(n-i):\n",
    "        print(\" \", end=\" \")\n",
    "        \n",
    "\n",
    "    for k in range(2*i-1):\n",
    "            print(\"*\", end=\" \")\n",
    "\n",
    "    print()    "
   ]
  },
  {
   "cell_type": "code",
   "execution_count": 53,
   "id": "72c14a27-b2f7-4cf1-a196-18e7e21f7fc9",
   "metadata": {},
   "outputs": [
    {
     "name": "stdin",
     "output_type": "stream",
     "text": [
      "Enter the number of rows for the pattern:  5\n"
     ]
    },
    {
     "name": "stdout",
     "output_type": "stream",
     "text": [
      "0 \n",
      "1 0 \n",
      "0 1 0 \n",
      "1 0 1 0 \n",
      "0 1 0 1 0 \n"
     ]
    }
   ],
   "source": [
    "n = int(input(\"Enter the number of rows for the pattern: \"))\n",
    "\n",
    "for i in range(n):\n",
    "    for j in range(i + 1):\n",
    "        print((i + j) % 2, end=\" \")\n",
    "    print()\n"
   ]
  },
  {
   "cell_type": "code",
   "execution_count": null,
   "id": "094cc1b0-cd78-44a3-b0d1-844af2ee22b1",
   "metadata": {},
   "outputs": [],
   "source": []
  }
 ],
 "metadata": {
  "kernelspec": {
   "display_name": "Python 3 (ipykernel)",
   "language": "python",
   "name": "python3"
  },
  "language_info": {
   "codemirror_mode": {
    "name": "ipython",
    "version": 3
   },
   "file_extension": ".py",
   "mimetype": "text/x-python",
   "name": "python",
   "nbconvert_exporter": "python",
   "pygments_lexer": "ipython3",
   "version": "3.12.3"
  }
 },
 "nbformat": 4,
 "nbformat_minor": 5
}
