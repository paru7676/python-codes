{
 "cells": [
  {
   "cell_type": "code",
   "execution_count": 1,
   "id": "f1597530-12f9-4f38-b609-4839dcc9a369",
   "metadata": {},
   "outputs": [
    {
     "name": "stdin",
     "output_type": "stream",
     "text": [
      "Enter the fruits name:  Apple Banana Mango Grapes\n",
      "enter the new data you want to replace Banana\n",
      "enter the new data watermelon\n"
     ]
    },
    {
     "name": "stdout",
     "output_type": "stream",
     "text": [
      "Apple\n",
      "watermelon\n",
      "Mango\n",
      "Grapes\n"
     ]
    }
   ],
   "source": [
    "\"\"\"Create a file Named as Fruit name\n",
    "and Add the fruit names by taking input from the user.\n",
    "\n",
    "after that replace a fruit name with other fruit name entered by the user.\n",
    "\n",
    "for example:\n",
    "\n",
    "file have \n",
    "Apple\n",
    "Banana\n",
    "Mango\n",
    "Grapes\n",
    "\n",
    "now replace Banana with watermelon\"\"\"\n",
    "\n",
    "\n",
    "\n",
    "import os\n",
    "\n",
    "\n",
    "data = input(\"Enter the fruits name: \")\n",
    "with open(\"fruit\", 'w') as f:\n",
    "    f.write(data)\n",
    "\n",
    "\n",
    "with open(\"fruit\", 'r') as f:\n",
    "    lines = f.read()\n",
    "\n",
    "a=input(\"enter the new data you want to replace\")\n",
    "b=input(\"enter the new data\")\n",
    "lines = lines.replace(a,b)\n",
    "\n",
    "with open(\"fruit\", 'w') as f:\n",
    "    f.write(lines)\n",
    "\n",
    "with open(\"fruit\",'r') as f:\n",
    "    for i in f.read().split():\n",
    "        print(i)\n",
    "\n",
    "\n",
    "    "
   ]
  },
  {
   "cell_type": "code",
   "execution_count": 4,
   "id": "71d82ac1-598a-4d64-9ed1-935528239bee",
   "metadata": {},
   "outputs": [
    {
     "name": "stdout",
     "output_type": "stream",
     "text": [
      "Apple watermelon Mango Grapeskiwi\tkiwi\n"
     ]
    }
   ],
   "source": [
    "#try statement is not used for syntax error\n",
    "#r+ means read and write mode\n",
    "#w+ means write and read mode\n",
    "#a+ means append and read mode\n",
    "\n",
    "import os\n",
    "try:\n",
    "    with open(\"fruit\",'r+')as f:\n",
    "        a=f.read()\n",
    "        print(a)\n",
    "        f.write(\"\\tkiwi\")\n",
    "except:\n",
    "    print(\"file doesnt exist\")\n",
    "        \n",
    "        \n"
   ]
  },
  {
   "cell_type": "code",
   "execution_count": null,
   "id": "d5c50ef5-c109-479e-a2d2-98c0236cedc7",
   "metadata": {},
   "outputs": [],
   "source": [
    "with open(\"fruity\",'w')as f:\n",
    "    pass#this keyoword is used when we dont create the body"
   ]
  },
  {
   "cell_type": "code",
   "execution_count": 5,
   "id": "dda79ae0-5ec8-4dfd-b70c-fc81e806fc05",
   "metadata": {},
   "outputs": [
    {
     "name": "stdout",
     "output_type": "stream",
     "text": [
      "<class 'int'>\n"
     ]
    }
   ],
   "source": [
    "\"\"\"objectoriented programming\n",
    ">class is blueprint and defines the properties of object\n",
    ">object is the instance of class which has pysical significance\n",
    ">data abstraction :hiding the data memebers and functions from objects \n",
    ">encapsulation:binding data and function in single unit\n",
    ">inheritance:creating new data from existing data with features\n",
    ">polymorphism:same name with different function ,method overloading ,method overiding\"\"\"\n",
    "a=10\n",
    "print(type(a))#so everything is considered as class"
   ]
  },
  {
   "cell_type": "code",
   "execution_count": 14,
   "id": "70b5ba71-27d0-4a5e-86a1-f3bdf81ccf10",
   "metadata": {},
   "outputs": [
    {
     "name": "stdout",
     "output_type": "stream",
     "text": [
      "this laptop is ryzen 7 of 16gb ram and 512ssd\n"
     ]
    }
   ],
   "source": [
    "\n",
    "\n",
    "\n",
    "class laptop:\n",
    "    def config(self):#method by passing argument\n",
    "        a=0\n",
    "        print(\"this laptop is ryzen 7 of 16gb ram and 512ssd\")\n",
    "\n",
    "    def __init__(self,value):\n",
    "        self.b=value\n",
    "        \n",
    "hp=laptop(20)#creating object\n",
    "\n",
    "hp.config()\n"
   ]
  },
  {
   "cell_type": "code",
   "execution_count": 12,
   "id": "3299ea8f-1102-467c-bf64-53cd8d734a9f",
   "metadata": {},
   "outputs": [
    {
     "name": "stdout",
     "output_type": "stream",
     "text": [
      "Configuration of the laptop:\n",
      "Processor: i7\n",
      "RAM: 16\n",
      "Storage: 512GB\n",
      "Configuration of the laptop:\n",
      "Processor: i3\n",
      "RAM: 8\n",
      "Storage: 1TB\n",
      "Configuration of the laptop:\n",
      "Processor: i5\n",
      "RAM: 16\n",
      "Storage: 512GB\n"
     ]
    }
   ],
   "source": [
    "\"\"\"create a laptop class with variable as processor ,ram,and storage\n",
    "create function to print the cingiguration of the laptop\n",
    "create 3 object of laptop with different brand and display its configuration\"\"\"\n",
    "\n",
    "class Laptop:\n",
    "    def __init__(self, p, r, s):\n",
    "        self.processor = p\n",
    "        self.ram = r\n",
    "        self.storage = s\n",
    "\n",
    "    def config(self):\n",
    "        print(\"Configuration of the laptop:\")\n",
    "        print(\"Processor:\", self.processor)\n",
    "        print(\"RAM:\", self.ram)\n",
    "        print(\"Storage:\", self.storage)\n",
    "\n",
    "\n",
    "# Creating main function\n",
    "if __name__ == \"__main__\":\n",
    "    hp = Laptop(\"i7\", 16, \"512GB\")\n",
    "    dell = Laptop(\"i3\", 8, \"1TB\")\n",
    "    acer = Laptop(\"i5\", 16, \"512GB\")\n",
    "\n",
    "    hp.config()\n",
    "    dell.config()\n",
    "    acer.config()\n"
   ]
  },
  {
   "cell_type": "code",
   "execution_count": 20,
   "id": "5485c05e-114e-4bc4-a35b-3f88600ca92f",
   "metadata": {},
   "outputs": [
    {
     "name": "stdout",
     "output_type": "stream",
     "text": [
      "marksof stud1 75\n",
      "marksof stud2 80\n",
      "marksof stud3 85\n",
      "marksof stud4 60\n",
      "marksof stud5 70\n",
      "average marks: 74.0\n"
     ]
    }
   ],
   "source": [
    "#students\n",
    "\n",
    "class student:\n",
    "    def __init__(self,std1,std2,std3,std4,std5):\n",
    "        self.student1=std1\n",
    "        self.student2=std2\n",
    "        self.student3=std3\n",
    "        self.student4=std4\n",
    "        self.student5=std5\n",
    "        #self.average=avg\n",
    "\n",
    "    def config(self):\n",
    "        print(\"marksof stud1\",self.student1)\n",
    "        print(\"marksof stud2\",self.student2)\n",
    "        print(\"marksof stud3\",self.student3)\n",
    "        print(\"marksof stud4\",self.student4)\n",
    "        print(\"marksof stud5\",self.student5)\n",
    "        #print(\"average\",self.average)\n",
    "    def aver(self):\n",
    "        tot=self.student1+self.student2+self.student3+self.student4+self.student5\n",
    "        average=tot/5\n",
    "        return average\n",
    "    \n",
    "    \n",
    "if __name__ == \"__main__\":\n",
    "    s1=student(75,80,85,60,70)\n",
    "    s1.config()\n",
    "    print(\"average marks:\",s1.aver())\n"
   ]
  },
  {
   "cell_type": "code",
   "execution_count": 32,
   "id": "dd87aa5c-9cfe-4cc5-a0a0-585837ebc8bb",
   "metadata": {},
   "outputs": [
    {
     "name": "stdout",
     "output_type": "stream",
     "text": [
      "1\n",
      "2\n",
      "3\n"
     ]
    }
   ],
   "source": [
    "#access modifiers\n",
    "#public normal\n",
    "#protected_#single underscore is used\n",
    "#private__#double underscore is used\n",
    "\n",
    "class demo:\n",
    "    def __init__(self, a, b, c):\n",
    "        self.x = a  # private member\n",
    "        self.y = b\n",
    "        self.z = c\n",
    "        \n",
    "    def outputx(self):\n",
    "        print(self.x)  # private variable\n",
    "        \n",
    "    def outputy(self):\n",
    "        print(self.y)\n",
    "        \n",
    "    def outputz(self):\n",
    "        print(self.z)\n",
    "\n",
    "obj1 = demo(1, 2, 3)\n",
    "\n",
    "# You cannot directly access private variables outside the class.\n",
    "# Instead, you can access them through class methods.\n",
    "# To print x, y, and z, you can call the respective methods:\n",
    "\n",
    "print(obj1.x)\n",
    "print(obj1.y)\n",
    "print(obj1.z)  \n",
    "\n",
    "\"\"\"obj1.outputx()  #to access private members\n",
    "obj1.outputy() \n",
    "obj1.outputz() \"\"\"\n",
    "\n",
    "\n"
   ]
  },
  {
   "cell_type": "code",
   "execution_count": 38,
   "id": "a3a52e34-64b7-409a-a202-b90659ff147c",
   "metadata": {},
   "outputs": [
    {
     "name": "stdout",
     "output_type": "stream",
     "text": [
      "this is the func 1\n"
     ]
    }
   ],
   "source": [
    "#inheritance\n",
    "class a:\n",
    "    def fun1(self):\n",
    "        print(\"this is the func 1\")\n",
    "    def fun2(self):\n",
    "        print(\"this is the func 2\")\n",
    "class b(a):\n",
    "    def fun3(self):\n",
    "        print(\"function 3\")\n",
    "    def fun4(self):\n",
    "        print(\"this is fun4\")\n",
    "\n",
    "class c(b):\n",
    "    def fun5(self):\n",
    "        print(\"function 5\")\n",
    "    def fun6(self):\n",
    "        print(\"this is fun6\")\n",
    "\n",
    "obj1=a()\n",
    "obj2=b()\n",
    "obj3=c()\n",
    "\n",
    "#if __name__ == \"__main__\":\n",
    "obj3.fun1()"
   ]
  },
  {
   "cell_type": "code",
   "execution_count": 44,
   "id": "92552d8d-d3fe-4a08-9945-c8b09b776011",
   "metadata": {},
   "outputs": [
    {
     "name": "stdout",
     "output_type": "stream",
     "text": [
      "constructor of a\n",
      "constructor of b\n",
      "constructor of  c\n",
      "constructor of d\n"
     ]
    }
   ],
   "source": [
    "#constructor\n",
    "\n",
    "class a:\n",
    "    def __init__(self):\n",
    "        print(\"constructor of a\")\n",
    "    \n",
    "class b(a):\n",
    "    def __init__(self):\n",
    "        print(\"constructor of b\")\n",
    "\n",
    "class c(a):\n",
    "    def __init__(self):\n",
    "        print(\"constructor of  c\")\n",
    "\n",
    "class d(b, c):  \n",
    "    def __init__(self):\n",
    "        print(\"constructor of d\")\n",
    "\n",
    "# Creating instances\n",
    "obj1 = a()  \n",
    "obj2 = b()  \n",
    "obj3 = c()  \n",
    "obj4 = d()  \n"
   ]
  },
  {
   "cell_type": "code",
   "execution_count": 45,
   "id": "2fc53dee-61ff-4f6f-9145-fc1c62bc1db1",
   "metadata": {},
   "outputs": [
    {
     "name": "stdout",
     "output_type": "stream",
     "text": [
      "constructor of a\n"
     ]
    }
   ],
   "source": [
    "#using pass keyword:encapsulation\n",
    "\n",
    "class a:\n",
    "    def __init__(self):\n",
    "        print(\"constructor of a\")\n",
    "    \n",
    "class b(a):\n",
    "    pass\n",
    "    \"\"\"def __init__(self):\n",
    "        print(\"constructor of b\")\"\"\"\n",
    "\n",
    "class c(a):\n",
    "    def __init__(self):\n",
    "        print(\"constructor of  c\")\n",
    "\n",
    "class d(b, c):  \n",
    "    def __init__(self):\n",
    "        print(\"constructor of d\")\n",
    "\n",
    "obj1=b()"
   ]
  },
  {
   "cell_type": "code",
   "execution_count": 51,
   "id": "1c659061-370d-49ae-a767-a469d65d91a9",
   "metadata": {},
   "outputs": [
    {
     "name": "stdout",
     "output_type": "stream",
     "text": [
      "Professional laptop specifications: 8hr i9 8 512\n",
      "Gaming laptop specifications: 9 i7 16 512\n"
     ]
    }
   ],
   "source": [
    "class laptop:\n",
    "    def __init__(self, p, r, s):\n",
    "        self.processor = p\n",
    "        self.ram = r\n",
    "        self.storage = s\n",
    "          \n",
    "\n",
    "class professional(laptop):\n",
    "    def __init__(self, bat, p, r, s):\n",
    "        self.batterybackup = bat\n",
    "        super().__init__(p, r, s)\n",
    "\n",
    "   \n",
    "class gaming(laptop):\n",
    "    def __init__(self, graphic, p, r, s):\n",
    "        self.graphiccard = graphic\n",
    "        super().__init__(p, r, s)\n",
    "        \n",
    "obj1 = laptop('i7', 16, 512)\n",
    "obj2 = professional('8hr', 'i9', 8, 512)\n",
    "obj3 = gaming(\"9\", 'i7', '16', 512)\n",
    "\n",
    "print(\"Professional laptop specifications:\", obj2.batterybackup, obj2.processor, obj2.ram, obj2.storage)\n",
    "print(\"Gaming laptop specifications:\", obj3.graphiccard, obj3.processor, obj3.ram, obj3.storage)\n",
    "\n",
    "\n",
    "        "
   ]
  },
  {
   "cell_type": "code",
   "execution_count": 54,
   "id": "5f8fa2cc-fab6-40af-a703-947e79716501",
   "metadata": {},
   "outputs": [
    {
     "name": "stdout",
     "output_type": "stream",
     "text": [
      "Ticket booked Fare Price will be:  7850\n"
     ]
    }
   ],
   "source": [
    "\"\"\"write a program to demonstrate the working of a railway ticket booking:\n",
    "create required class like-ticket class|general ticket|ac ticket|first class ticket.\n",
    "show the use of inheritance in this and create a proper ticket booking model for an indian railway \n",
    "After booking the ticket you have to show the final ticket price to the customer\n",
    "consider only 3 sources and destination as\n",
    "A500km | B 600Kms |C 400Kms\n",
    "booking charges:50|Distance  Charges:2/km|\n",
    "sleeper cahrges :2/km |AC charges:4/km|first class charges:5/km\"\"\"\n",
    "\n",
    "class ticket:\n",
    "   \n",
    "    def __init__(self,D):\n",
    "        self.distance = int(D)\n",
    "        self.farePrice = None\n",
    "\n",
    "class gen(ticket):\n",
    "    def __init__(self,D):\n",
    "        super().__init__(D)\n",
    "    def print_ticket(self):\n",
    "        self.farePrice=50+(self.distance*2)\n",
    "        return self.farePrice\n",
    "        \n",
    "\n",
    "\n",
    "class slp(gen):\n",
    "    def __init__(self,D):\n",
    "        super().__init__(D)\n",
    "\n",
    "    def print_ticket(self):\n",
    "        self.farePrice=super().print_ticket()+(2*self.distance)\n",
    "        return self.farePrice\n",
    "\n",
    "class AC(slp):\n",
    "    def __init__(self,D):\n",
    "        super().__init__(D)\n",
    "    def print_ticket(self):\n",
    "        self.farePrice=super().print_ticket()+(4*self.distance)\n",
    "        return self.farePrice\n",
    "\n",
    "class FC(AC):\n",
    "    def __init__(self,D):\n",
    "        super().__init__(D)\n",
    "    def print_ticket(self):\n",
    "        self.farePrice=super().print_ticket()+(5*self.distance)\n",
    "        return self.farePrice\n",
    "\n",
    "\n",
    "jur = FC(600)\n",
    "print(\"Ticket booked Fare Price will be: \",jur.print_ticket())"
   ]
  },
  {
   "cell_type": "code",
   "execution_count": null,
   "id": "1676a70d-26cd-446c-a0d7-08213b138292",
   "metadata": {},
   "outputs": [],
   "source": []
  }
 ],
 "metadata": {
  "kernelspec": {
   "display_name": "Python 3 (ipykernel)",
   "language": "python",
   "name": "python3"
  },
  "language_info": {
   "codemirror_mode": {
    "name": "ipython",
    "version": 3
   },
   "file_extension": ".py",
   "mimetype": "text/x-python",
   "name": "python",
   "nbconvert_exporter": "python",
   "pygments_lexer": "ipython3",
   "version": "3.12.3"
  }
 },
 "nbformat": 4,
 "nbformat_minor": 5
}
