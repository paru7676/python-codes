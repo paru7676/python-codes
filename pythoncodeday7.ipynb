{
 "cells": [
  {
   "cell_type": "markdown",
   "id": "a96d62a2-6769-48ab-a51e-434a6a6dc4e1",
   "metadata": {},
   "source": [
    "#data structures and algorithms\n",
    "\"\"\"organizing data in proper format \n",
    "algorithm:steps of instruction\n",
    "it involves 2 complexity:time comlixity and space complexity\n",
    "time comlexity:it doesnt depend on time program takes ,it depends on how many repetations are done \n",
    "symbols:big(O):normal,omega>best case,theta(worst case and best case intersect):average\n",
    "\n",
    "Types of time complexity:constant timeCom(o(1),linear TC(o(n)),quadratic TC(o(n^2)),exponential TC(o(n^m)),factorial TC(o(n!))\n",
    "nested loop ex for quadratic TC\n",
    "space complexity:constant space(1)(we have to work on data that is given ,by not taking any extra space),linear space(n)\n",
    "\n"
   ]
  },
  {
   "cell_type": "code",
   "execution_count": 35,
   "id": "8f13dbfd-0786-4d74-a562-148c9e8dc444",
   "metadata": {},
   "outputs": [
    {
     "name": "stdin",
     "output_type": "stream",
     "text": [
      "number of elemnets add to: 4\n"
     ]
    },
    {
     "name": "stdout",
     "output_type": "stream",
     "text": [
      "26\n"
     ]
    }
   ],
   "source": [
    "#find the max sum of any n(user input) consecutive elemnets of this array\n",
    "a=[2,4,6,1,3,7,4,6,9,3,6,8,3,6,4,1,3,9,6,4,5,6,8,3,7,3,6,8]\n",
    "\n",
    "n=int(input(\"number of elemnets add to:\"))\n",
    "\n",
    "max=0\n",
    "for i in range(len(a)-(n-1)):\n",
    "    sum=0\n",
    "    for j in range(0,n):\n",
    "        sum+=a[i+j]\n",
    "        \n",
    "    if max<sum:\n",
    "        max=sum\n",
    "\n",
    "print(max)\n",
    "    \n",
    "\n"
   ]
  },
  {
   "cell_type": "code",
   "execution_count": 40,
   "id": "a32bac5e-b0b2-407a-b5ea-bd76e0a6dc97",
   "metadata": {},
   "outputs": [
    {
     "name": "stdin",
     "output_type": "stream",
     "text": [
      "number of elemnets add to: 4\n"
     ]
    },
    {
     "name": "stdout",
     "output_type": "stream",
     "text": [
      "26\n"
     ]
    }
   ],
   "source": [
    "a=[2,4,6,1,3,7,4,6,9,3,6,8,3,6,4,1,3,9,6,4,5,6,8,3,7,3,6,8]\n",
    "\n",
    "n=int(input(\"number of elemnets add to:\"))\n",
    "\n",
    "max=0\n",
    "sum=0\n",
    "for i in range(0,n):\n",
    "    sum+=a[i]\n",
    "for j in range(0,len(a)-n-1):#tabular for loops time complexity will be added and in nested loops it is multiplied\n",
    "    \n",
    "    if max<sum:\n",
    "        max=sum\n",
    "    sum+=a[j+n]-a[j]\n",
    "\n",
    "print(max)\n",
    "    \n",
    "\n"
   ]
  },
  {
   "cell_type": "code",
   "execution_count": 41,
   "id": "636c731e-d00c-43d0-8ef7-aef80d45e318",
   "metadata": {},
   "outputs": [
    {
     "name": "stdout",
     "output_type": "stream",
     "text": [
      "[1, 2, 3, 4, 5, 6, 7, 8, 9]\n"
     ]
    }
   ],
   "source": [
    "a=[3,5,2,6,7,4,8,1,9]\n",
    "a.sort()\n",
    "print(a)"
   ]
  },
  {
   "cell_type": "code",
   "execution_count": 42,
   "id": "82e348eb-9155-480b-b9b5-f91019782926",
   "metadata": {},
   "outputs": [
    {
     "name": "stdout",
     "output_type": "stream",
     "text": [
      "[9, 8, 7, 6, 5, 4, 3, 2, 1]\n"
     ]
    }
   ],
   "source": [
    "a=[3,5,2,6,7,4,8,1,9]\n",
    "a.sort(reverse=True)\n",
    "print(a)"
   ]
  },
  {
   "cell_type": "code",
   "execution_count": 46,
   "id": "2963e628-565d-43d2-96c1-a1bbffa55d0a",
   "metadata": {},
   "outputs": [
    {
     "name": "stdout",
     "output_type": "stream",
     "text": [
      "[1, 2, 3, 4, 5, 6, 7, 8, 9]\n"
     ]
    }
   ],
   "source": [
    "#bubble sort\n",
    "\n",
    "a=[3,5,2,6,7,4,8,1,9]\n",
    "\n",
    "n=len(a)\n",
    "\n",
    "for i in range(0,n):\n",
    "    for j in range(0,n-i-1):\n",
    "        if a[j]>a[j+1]:\n",
    "            a[j],a[j+1]=a[j+1],a[j]\n",
    "print(a)\n",
    "\n",
    "\n",
    "\n"
   ]
  },
  {
   "cell_type": "code",
   "execution_count": 51,
   "id": "c8cc4855-5f9c-4db0-8d55-3abdd8628de9",
   "metadata": {},
   "outputs": [
    {
     "name": "stdout",
     "output_type": "stream",
     "text": [
      "[1, 2, 3, 4, 5, 6, 7, 8, 9]\n"
     ]
    }
   ],
   "source": [
    "#insertion sort\n",
    "#we have to take an element and take it as key and check its left side elements \n",
    "\n",
    "a = [3, 5, 2, 6, 7, 4, 8, 1, 9]\n",
    "n = len(a)\n",
    "\n",
    "for i in range(1, n):\n",
    "    key = a[i]\n",
    "    j = i - 1\n",
    "    while j >= 0 and key < a[j]:\n",
    "        a[j + 1] = a[j]\n",
    "        j -= 1\n",
    "    a[j + 1] = key\n",
    "\n",
    "print(a)"
   ]
  },
  {
   "cell_type": "code",
   "execution_count": 2,
   "id": "95423567-3b06-4854-9ef6-ce47e5ea696c",
   "metadata": {},
   "outputs": [
    {
     "name": "stdout",
     "output_type": "stream",
     "text": [
      "[1, 2, 3, 4, 5, 6, 7, 8, 9]\n"
     ]
    }
   ],
   "source": [
    "#selection sort \n",
    "#we will find out the min element first then we will swap with min element\n",
    "a = [3, 5, 2, 6, 7, 4, 8, 1, 9]\n",
    "n = len(a)\n",
    "for i in range(n-1):\n",
    "    \n",
    "    for j in range(i+1,n):\n",
    "        if a[j]<a[i]:\n",
    "            a[j],a[i]=a[i],a[j]\n",
    "print(a)"
   ]
  },
  {
   "cell_type": "code",
   "execution_count": null,
   "id": "2ef1d8c1-0ca6-4b03-8687-e350342ad7bd",
   "metadata": {},
   "outputs": [],
   "source": []
  }
 ],
 "metadata": {
  "kernelspec": {
   "display_name": "Python 3 (ipykernel)",
   "language": "python",
   "name": "python3"
  },
  "language_info": {
   "codemirror_mode": {
    "name": "ipython",
    "version": 3
   },
   "file_extension": ".py",
   "mimetype": "text/x-python",
   "name": "python",
   "nbconvert_exporter": "python",
   "pygments_lexer": "ipython3",
   "version": "3.12.3"
  }
 },
 "nbformat": 4,
 "nbformat_minor": 5
}
