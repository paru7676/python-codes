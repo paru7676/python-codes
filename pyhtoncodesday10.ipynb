{
 "cells": [
  {
   "cell_type": "code",
   "execution_count": 2,
   "id": "624cace5-d956-46a1-8c2b-593e89d55b47",
   "metadata": {},
   "outputs": [
    {
     "name": "stdout",
     "output_type": "stream",
     "text": [
      "2\n",
      "4\n",
      "6\n",
      "8\n",
      "10\n",
      "12\n",
      "14\n",
      "16\n",
      "18\n",
      "20\n"
     ]
    }
   ],
   "source": [
    "#recursion\n",
    "for i in range(1,11):\n",
    "    print(i*2)"
   ]
  },
  {
   "cell_type": "code",
   "execution_count": 7,
   "id": "4c9dd205-7a47-403b-a569-b021fb4711ce",
   "metadata": {},
   "outputs": [
    {
     "name": "stdout",
     "output_type": "stream",
     "text": [
      "2\n",
      "4\n",
      "6\n",
      "8\n",
      "10\n",
      "12\n",
      "14\n",
      "16\n",
      "18\n",
      "20\n"
     ]
    }
   ],
   "source": [
    "def mult(i):\n",
    "    if i==11:\n",
    "        return\n",
    "    print(i*2)\n",
    "    i=i+1\n",
    "    mult(i)\n",
    "    return\n",
    "\n",
    "mult(1)\n",
    "\n",
    "    "
   ]
  },
  {
   "cell_type": "code",
   "execution_count": 26,
   "id": "55a1cdbb-231c-4dad-9673-ef5a5d837cd8",
   "metadata": {},
   "outputs": [
    {
     "name": "stdin",
     "output_type": "stream",
     "text": [
      " 0\n"
     ]
    },
    {
     "name": "stdout",
     "output_type": "stream",
     "text": [
      "1\n"
     ]
    }
   ],
   "source": [
    "#factorial of number using for loop\n",
    "\n",
    "n=int(input())\n",
    "fact=1\n",
    "for i in range(1,n+1):\n",
    "    fact*=i\n",
    "print(fact)"
   ]
  },
  {
   "cell_type": "code",
   "execution_count": 19,
   "id": "35197029-bc62-47b6-8bfb-f0754d68f2eb",
   "metadata": {},
   "outputs": [
    {
     "name": "stdin",
     "output_type": "stream",
     "text": [
      " 6\n"
     ]
    },
    {
     "data": {
      "text/plain": [
       "720"
      ]
     },
     "execution_count": 19,
     "metadata": {},
     "output_type": "execute_result"
    }
   ],
   "source": [
    "#factorial using recursion\n",
    "n=int(input())\n",
    "def fact(n):\n",
    "    if n==1:\n",
    "        return 1\n",
    "\n",
    "    return n*fact(n-1)\n",
    "\n",
    "fact(n)\n",
    "    "
   ]
  },
  {
   "cell_type": "code",
   "execution_count": 24,
   "id": "43696830-3279-4308-a887-62206025d1ec",
   "metadata": {},
   "outputs": [
    {
     "name": "stdin",
     "output_type": "stream",
     "text": [
      " 5\n"
     ]
    },
    {
     "name": "stdout",
     "output_type": "stream",
     "text": [
      "fib of the number is 5\n"
     ]
    }
   ],
   "source": [
    "#fibonacci\n",
    "n=int(input())\n",
    "def fib(n):\n",
    "    if n==0 or n==1:\n",
    "        return n\n",
    "\n",
    "    return fib(n-1)+fib(n-2)\n",
    "\n",
    "print(\"fib of the number is\",fib(n))"
   ]
  },
  {
   "cell_type": "code",
   "execution_count": 29,
   "id": "a393b483-c3e1-4c04-b233-2fbaab7ba8bf",
   "metadata": {},
   "outputs": [
    {
     "name": "stdin",
     "output_type": "stream",
     "text": [
      " 5\n"
     ]
    },
    {
     "name": "stdout",
     "output_type": "stream",
     "text": [
      "5\n"
     ]
    }
   ],
   "source": [
    "#fib :iterative method\n",
    "n=int(input())\n",
    "fib=0\n",
    "a=0\n",
    "b=1\n",
    "for i in range(n-1):\n",
    "    if n==1 or n==2:\n",
    "        print(1) \n",
    "    else:\n",
    "        a,b=b,a+b\n",
    "\n",
    "\n",
    "print(b)\n",
    "    \n",
    "    \n",
    "    \n",
    "    "
   ]
  },
  {
   "cell_type": "code",
   "execution_count": 32,
   "id": "c48d53a0-cee8-40f3-a58c-aa8196ab52f7",
   "metadata": {},
   "outputs": [
    {
     "name": "stdout",
     "output_type": "stream",
     "text": [
      "[1, 2, 3, 4, 5, 6, 7, 8, 9]\n"
     ]
    }
   ],
   "source": [
    "#quick sort\n",
    "def findpi(a,low,high):\n",
    "    pe=a[high]p\n",
    "    j=low-1\n",
    "    for i in range(low,high ):\n",
    "        if pe>a[i]:\n",
    "            j+=1\n",
    "            a[i],a[j]=a[j],a[i]\n",
    "    a[high],a[j+1]=a[j+1],a[high]\n",
    "    return j+1\n",
    "\n",
    "def quicksort(a,low ,high):\n",
    "    if low<high:\n",
    "        pi=findpi(a,low,high)\n",
    "        quicksort(a,low,pi-1)\n",
    "        quicksort(a,pi+1,high)\n",
    "        \n",
    "\n",
    "a=[3,6,1,9,5,2,7,8,4]\n",
    "quicksort(a,0,len(a)-1)\n",
    "print(a)"
   ]
  },
  {
   "cell_type": "code",
   "execution_count": 4,
   "id": "77a6aea4-1153-47b4-911c-787d5594a89d",
   "metadata": {},
   "outputs": [
    {
     "name": "stdout",
     "output_type": "stream",
     "text": [
      "hey -> hi -> helo -> None\n"
     ]
    }
   ],
   "source": [
    "#linked list\n",
    "\n",
    "class Node:\n",
    "    def __init__(self, data):\n",
    "        self.data = data\n",
    "        self.next = None\n",
    "\n",
    "class LinkedList:\n",
    "    def __init__(self):\n",
    "        self.head = None\n",
    "\n",
    "    def append(self, data):\n",
    "        new_node = Node(data)\n",
    "        if not self.head:\n",
    "            self.head = new_node\n",
    "            return\n",
    "        last_node = self.head\n",
    "        while last_node.next:\n",
    "            last_node = last_node.next\n",
    "        last_node.next = new_node\n",
    "\n",
    "    def display(self):\n",
    "        current = self.head\n",
    "        while current:\n",
    "            print(current.data, end=\" -> \")\n",
    "            current = current.next\n",
    "        print(\"None\")\n",
    "\n",
    "\n",
    "llist = LinkedList()\n",
    "llist.append(\"h\")\n",
    "llist.append(\"hi\")\n",
    "llist.append(\"helo\")\n",
    "llist.display()\n",
    "\n",
    "            \n",
    "            \n",
    "\n",
    "\n",
    "\n"
   ]
  },
  {
   "cell_type": "code",
   "execution_count": null,
   "id": "64b3563a-b70b-4940-ad4c-834e42ac5fb3",
   "metadata": {},
   "outputs": [],
   "source": []
  },
  {
   "cell_type": "code",
   "execution_count": null,
   "id": "c6fc57b5-d1f1-4578-86d1-10a174c3a28c",
   "metadata": {},
   "outputs": [],
   "source": []
  }
 ],
 "metadata": {
  "kernelspec": {
   "display_name": "Python 3 (ipykernel)",
   "language": "python",
   "name": "python3"
  },
  "language_info": {
   "codemirror_mode": {
    "name": "ipython",
    "version": 3
   },
   "file_extension": ".py",
   "mimetype": "text/x-python",
   "name": "python",
   "nbconvert_exporter": "python",
   "pygments_lexer": "ipython3",
   "version": "3.12.3"
  }
 },
 "nbformat": 4,
 "nbformat_minor": 5
}
